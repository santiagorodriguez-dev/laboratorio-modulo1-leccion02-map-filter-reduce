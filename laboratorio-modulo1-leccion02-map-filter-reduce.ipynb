{
 "cells": [
  {
   "cell_type": "markdown",
   "metadata": {},
   "source": [
    "\n",
    "<div style=\"text-align: center;\">\n",
    "  <img src=\"https://github.com/Hack-io-Data/Imagenes/blob/main/01-LogosHackio/logo_celeste@4x.png?raw=true\" alt=\"esquema\" />\n",
    "</div>\n"
   ]
  },
  {
   "cell_type": "markdown",
   "metadata": {},
   "source": [
    "# Laboratorio de Python: map(), filter() y reduce()"
   ]
  },
  {
   "cell_type": "markdown",
   "metadata": {},
   "source": [
    "## Ejercicio 1. map ()"
   ]
  },
  {
   "cell_type": "markdown",
   "metadata": {},
   "source": [
    "1.1. Dada una lista de números, obtén una nueva lista con el doble de cada valor.\n",
    "\n",
    "1.2. Genera una función que al recibir una frase devuelva una lista con la longitud de cada palabra. Nota: también se puede solucionar con una `lambda`. \n",
    "\n",
    "1.3. Genera una función que convierta una lista de tuplas a una lista de strings, por ejemplo: \n",
    "\n",
    "```python\n",
    "lista_de_tuplas = [(\"Juan\", \"Pérez\"),(\"María\", \"García\"),(\"Luis\", \"Martínez\"),(\"Ana\", \"López\"),(\"Carlos\", \"Sánchez\"),(\"Elena\", \"Fernández\"),(\"Miguel\", \"González\")]\n",
    "\n",
    "\n",
    "# output esperado\n",
    "['Juan Pérez',\n",
    "'María García',\n",
    "'Luis Martínez',\n",
    "'Ana López',\n",
    "'Carlos Sánchez',\n",
    "'Elena Fernández',\n",
    "'Miguel González']\n",
    "```\n",
    "\n",
    "1.4. Crea una función que calcule la diferencia entre los valores correspondientes de dos listas. Debrás restar los elementos de las dos listas, devolviendo una nueva lista con las diferencias. Por ejemplo: \n",
    "\n",
    "```python\n",
    "# input\n",
    "numeros = [4, 8, 15, 16, 23, 42]\n",
    "numeros_2 = [5, 12, 37, 8, 23, 45]\n",
    "\n",
    "# output\n",
    "[1, 4, 22, -8, 0, 3]\n",
    "```\n",
    "\n",
    "1.5. Genera una función la cual, para un conjunto de caracteres, devuelva una lista de tuplas con cada letra en mayúsculas y minúsculas. Importante, no puede haber dos tuplas que contengan las mismas letras. Ejemplo:\n",
    "\n",
    "```python\n",
    "conjunto_caracteres = {'a', 'b', 'E', 'f', 'a', 'i', 'o', 'U', 'a'}\n",
    "\n",
    "# output\n",
    "{('A', 'a'),\n",
    " ('B', 'b'),\n",
    " ('E', 'e'),\n",
    " ('F', 'f'),\n",
    " ('I', 'i'),\n",
    " ('O', 'o'),\n",
    " ('U', 'u')}\n",
    "```\n",
    "\n",
    " "
   ]
  },
  {
   "cell_type": "code",
   "execution_count": 2,
   "metadata": {},
   "outputs": [],
   "source": [
    "import random"
   ]
  },
  {
   "cell_type": "code",
   "execution_count": 3,
   "metadata": {},
   "outputs": [
    {
     "name": "stdout",
     "output_type": "stream",
     "text": [
      "[77, 70, 50, 4, 96, 54, 66, 62, 75, 52]\n",
      "[154, 140, 100, 8, 192, 108, 132, 124, 150, 104]\n"
     ]
    }
   ],
   "source": [
    "\"\"\"1.1. Dada una lista de números, obtén una nueva lista con el doble de cada valor.\n",
    "\"\"\"\n",
    "numeros = random.sample(range(1, 100), 10)\n",
    "print(numeros)\n",
    "\n",
    "def doble_valor(n1):\n",
    "    return n1 * 2\n",
    "\n",
    "print(list(map(doble_valor,numeros)))\n"
   ]
  },
  {
   "cell_type": "code",
   "execution_count": 6,
   "metadata": {},
   "outputs": [
    {
     "name": "stdout",
     "output_type": "stream",
     "text": [
      "hola que tal\n",
      "[4, 3, 3]\n",
      "[4, 3, 3]\n"
     ]
    }
   ],
   "source": [
    "\"\"\"1.2. Genera una función que al recibir una frase devuelva una lista con la longitud de cada palabra. \n",
    "    Nota: también se puede solucionar con una `lambda`. \n",
    "\"\"\"\n",
    "\n",
    "frase = \"hola que tal\"\n",
    "print(frase)\n",
    "\n",
    "# funcion\n",
    "def longitud_palabra(st):\n",
    "    return len(st)\n",
    "\n",
    "# con funcion\n",
    "print(list(map(longitud_palabra,frase.split())))\n",
    "\n",
    "# lambda\n",
    "print(list(map(lambda st : len(st), frase.split()))) "
   ]
  },
  {
   "cell_type": "code",
   "execution_count": 8,
   "metadata": {},
   "outputs": [
    {
     "name": "stdout",
     "output_type": "stream",
     "text": [
      "['Juan Pérez', 'María García', 'Luis Martínez', 'Ana López', 'Carlos Sánchez', 'Elena Fernández', 'Miguel González']\n",
      "['Juan Pérez', 'María García', 'Luis Martínez', 'Ana López', 'Carlos Sánchez', 'Elena Fernández', 'Miguel González']\n"
     ]
    }
   ],
   "source": [
    "\"\"\"1.3. Genera una función que convierta una lista de tuplas a una lista de strings\n",
    "    \"\"\"\n",
    "lista_de_tuplas = [(\"Juan\", \"Pérez\"),(\"María\", \"García\"),(\"Luis\", \"Martínez\"),(\"Ana\", \"López\"),(\"Carlos\", \"Sánchez\"),(\"Elena\", \"Fernández\"),(\"Miguel\", \"González\")]\n",
    "\n",
    "def convierte_datos(str):\n",
    "    return str[0] + \" \" + str[1]\n",
    "\n",
    "#con funcion\n",
    "print(list(map(convierte_datos,lista_de_tuplas)))\n",
    "\n",
    "# lambda\n",
    "print(list(map(lambda str : str[0] + \" \" + str[1], lista_de_tuplas))) \n"
   ]
  },
  {
   "cell_type": "code",
   "execution_count": 11,
   "metadata": {},
   "outputs": [
    {
     "name": "stdout",
     "output_type": "stream",
     "text": [
      "[1, 4, 22, -8, 0, 3]\n",
      "[1, 4, 22, -8, 0, 3]\n"
     ]
    }
   ],
   "source": [
    "\"\"\"1.4. Crea una función que calcule la diferencia entre los valores \n",
    "correspondientes de dos listas. Debrás restar los elementos de las dos listas,\n",
    " devolviendo una nueva lista con las diferencias.\n",
    "\"\"\"\n",
    "numeros = [4, 8, 15, 16, 23, 42]\n",
    "numeros_2 = [5, 12, 37, 8, 23, 45]\n",
    "\n",
    "def calcula_diferencia(n1,n2):\n",
    "    return n2 - n1\n",
    "\n",
    "# con funcion\n",
    "print(list(map(calcula_diferencia,numeros,numeros_2)))\n",
    "\n",
    "# lambda\n",
    "print(list(map(lambda n1,n2 : n2 - n1, numeros, numeros_2))) \n"
   ]
  },
  {
   "cell_type": "code",
   "execution_count": 33,
   "metadata": {},
   "outputs": [
    {
     "name": "stdout",
     "output_type": "stream",
     "text": [
      "['a', 'b', 'e', 'f', 'i', 'o', 'u']\n",
      "[('A', 'a'), ('B', 'b'), ('E', 'e'), ('F', 'f'), ('I', 'i'), ('O', 'o'), ('U', 'u')]\n",
      "[('A', 'a'), ('B', 'b'), ('E', 'e'), ('F', 'f'), ('I', 'i'), ('O', 'o'), ('U', 'u')]\n"
     ]
    }
   ],
   "source": [
    "\"\"\"\n",
    "1.5. Genera una función la cual, para un conjunto de caracteres, \n",
    "devuelva una lista de tuplas con cada letra en mayúsculas y minúsculas. \n",
    "Importante, no puede haber dos tuplas que contengan las mismas letras.\n",
    "\"\"\"\n",
    "\n",
    "conjunto_caracteres = {'a', 'b', 'E', 'f', 'a', 'i', 'o', 'U', 'a'}\n",
    "conjunto_caracteres_ordenado = sorted(list(map(lambda str : str.lower(), conjunto_caracteres)))\n",
    "\n",
    "print(conjunto_caracteres_ordenado)\n",
    "\n",
    "def genera_tuplas(str):\n",
    "    return (str.upper(),str)\n",
    "\n",
    "# Con funcion\n",
    "print(list(map(genera_tuplas,conjunto_caracteres_ordenado)))\n",
    "\n",
    "# con lambda\n",
    "print(list(map(lambda str : (str.upper(),str), conjunto_caracteres_ordenado)))\n"
   ]
  },
  {
   "cell_type": "markdown",
   "metadata": {},
   "source": [
    "## Ejercicio 2. Filter ()"
   ]
  },
  {
   "cell_type": "markdown",
   "metadata": {},
   "source": [
    "2.1. Crea una función que devuelva las palabras de una lista que comienzan con una letra específica. Por ejemplo:\n",
    "\n",
    "```python\n",
    "# input\n",
    "frase = 'Incluso la persona más pequeña puede cambiar el curso del futuro.'\n",
    "letra = 'p'\n",
    "\n",
    "# output\n",
    "['persona', 'pequeña', 'puede']\n",
    "```\n",
    "\n",
    "2.2. Para una lista con elementos tipo *integer* y *string*, obtén una nueva lista sólo con los valores de tipo *integer*.\n",
    "\n",
    "2.3. Escribe una función que tome una lista de nombres de mascotas como parámetro y devuelva una nueva lista excluyendo ciertas mascotas prohibidas en España. La lista de mascotas a excluir es [\"Mapache\", \"Tigre\", \"Serpiente Pitón\", \"Cocodrilo\", \"Oso\"].\n",
    "\n",
    "```python\n",
    "#input\n",
    "mascotas = ['Perro', 'Tigre', 'Gato', 'Oso', 'Erizo']\n",
    "\n",
    "# output\n",
    "['Perro', 'Gato', 'Erizo']\n",
    "```\n",
    "2.4. Escribe un programa en Python que cree una lista de diccionarios que contenga información de estudiantes (nombre, edad, calificación) y use la función filter para extraer a los estudiantes con una calificación mayor o igual a 90."
   ]
  },
  {
   "cell_type": "code",
   "execution_count": null,
   "metadata": {},
   "outputs": [],
   "source": []
  },
  {
   "cell_type": "code",
   "execution_count": null,
   "metadata": {},
   "outputs": [],
   "source": []
  },
  {
   "cell_type": "markdown",
   "metadata": {},
   "source": [
    "## Ejercicio 3. Reduce ()"
   ]
  },
  {
   "cell_type": "markdown",
   "metadata": {},
   "source": [
    "3.1 Crea una función que tome una lista de dígitos y devuelva el número correspondiente. Por ejemplo, [5,7,2] corresponde al número quinientos setenta y dos (572).\n",
    "\n",
    "3.2. Dada una lista de números enteros, obtén el producto total de los valores de dicha lista\n",
    "\n",
    "3.3. Concatena una lista de palabras. Por ejemplo:\n",
    "\n",
    "```python\n",
    "# input\n",
    "lista_int_str = ['Un', 'mago', 'nunca']\n",
    "\n",
    "# output\n",
    "'Unmagonunca'\n",
    "```\n",
    "\n",
    "3.4. Calcula la diferencia total en los valores de una lista, es decir, crea un programa que vaya restando todos sus elementos.\n"
   ]
  },
  {
   "cell_type": "code",
   "execution_count": null,
   "metadata": {},
   "outputs": [],
   "source": []
  },
  {
   "cell_type": "code",
   "execution_count": null,
   "metadata": {},
   "outputs": [],
   "source": []
  },
  {
   "cell_type": "markdown",
   "metadata": {},
   "source": [
    "## Ejercicio 4. Ejercicios combinando las funciones"
   ]
  },
  {
   "cell_type": "markdown",
   "metadata": {},
   "source": [
    "4.1. Dada una lista de números, filtra los números positivos y calcula su promedio.\n",
    "\n",
    "4.2. Dada una lista de palabras, filtra las palabras que empiezan con una vocal, conviértelas a mayúsculas, y luego concaténalas en una sola cadena. \n",
    "\n",
    "4.3. Dada una lista numérica, filtra los números impares y calcula el producto de todos ellos \n",
    "\n",
    "4.4. Dada una lista de palabras, filtra las que contienen la letra 'a' y cuenta cuántas hay."
   ]
  },
  {
   "cell_type": "code",
   "execution_count": null,
   "metadata": {},
   "outputs": [],
   "source": []
  },
  {
   "cell_type": "code",
   "execution_count": null,
   "metadata": {},
   "outputs": [],
   "source": []
  }
 ],
 "metadata": {
  "kernelspec": {
   "display_name": "base",
   "language": "python",
   "name": "python3"
  },
  "language_info": {
   "codemirror_mode": {
    "name": "ipython",
    "version": 3
   },
   "file_extension": ".py",
   "mimetype": "text/x-python",
   "name": "python",
   "nbconvert_exporter": "python",
   "pygments_lexer": "ipython3",
   "version": "3.12.5"
  }
 },
 "nbformat": 4,
 "nbformat_minor": 2
}
