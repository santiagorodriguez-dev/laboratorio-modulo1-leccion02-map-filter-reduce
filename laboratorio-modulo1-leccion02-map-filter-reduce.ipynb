{
 "cells": [
  {
   "cell_type": "markdown",
   "metadata": {},
   "source": [
    "\n",
    "<div style=\"text-align: center;\">\n",
    "  <img src=\"https://github.com/Hack-io-Data/Imagenes/blob/main/01-LogosHackio/logo_celeste@4x.png?raw=true\" alt=\"esquema\" />\n",
    "</div>\n"
   ]
  },
  {
   "cell_type": "markdown",
   "metadata": {},
   "source": [
    "# Laboratorio de Python: map(), filter() y reduce()"
   ]
  },
  {
   "cell_type": "markdown",
   "metadata": {},
   "source": [
    "## Ejercicio 1. map ()"
   ]
  },
  {
   "cell_type": "markdown",
   "metadata": {},
   "source": [
    "1.1. Dada una lista de números, obtén una nueva lista con el doble de cada valor.\n",
    "\n",
    "1.2. Genera una función que al recibir una frase devuelva una lista con la longitud de cada palabra. Nota: también se puede solucionar con una `lambda`. \n",
    "\n",
    "1.3. Genera una función que convierta una lista de tuplas a una lista de strings, por ejemplo: \n",
    "\n",
    "```python\n",
    "lista_de_tuplas = [(\"Juan\", \"Pérez\"),(\"María\", \"García\"),(\"Luis\", \"Martínez\"),(\"Ana\", \"López\"),(\"Carlos\", \"Sánchez\"),(\"Elena\", \"Fernández\"),(\"Miguel\", \"González\")]\n",
    "\n",
    "\n",
    "# output esperado\n",
    "['Juan Pérez',\n",
    "'María García',\n",
    "'Luis Martínez',\n",
    "'Ana López',\n",
    "'Carlos Sánchez',\n",
    "'Elena Fernández',\n",
    "'Miguel González']\n",
    "```\n",
    "\n",
    "1.4. Crea una función que calcule la diferencia entre los valores correspondientes de dos listas. Debrás restar los elementos de las dos listas, devolviendo una nueva lista con las diferencias. Por ejemplo: \n",
    "\n",
    "```python\n",
    "# input\n",
    "numeros = [4, 8, 15, 16, 23, 42]\n",
    "numeros_2 = [5, 12, 37, 8, 23, 45]\n",
    "\n",
    "# output\n",
    "[1, 4, 22, -8, 0, 3]\n",
    "```\n",
    "\n",
    "1.5. Genera una función la cual, para un conjunto de caracteres, devuelva una lista de tuplas con cada letra en mayúsculas y minúsculas. Importante, no puede haber dos tuplas que contengan las mismas letras. Ejemplo:\n",
    "\n",
    "```python\n",
    "conjunto_caracteres = {'a', 'b', 'E', 'f', 'a', 'i', 'o', 'U', 'a'}\n",
    "\n",
    "# output\n",
    "{('A', 'a'),\n",
    " ('B', 'b'),\n",
    " ('E', 'e'),\n",
    " ('F', 'f'),\n",
    " ('I', 'i'),\n",
    " ('O', 'o'),\n",
    " ('U', 'u')}\n",
    "```\n",
    "\n",
    " "
   ]
  },
  {
   "cell_type": "code",
   "execution_count": 2,
   "metadata": {},
   "outputs": [],
   "source": [
    "import random"
   ]
  },
  {
   "cell_type": "code",
   "execution_count": 50,
   "metadata": {},
   "outputs": [
    {
     "name": "stdout",
     "output_type": "stream",
     "text": [
      "[33, 94, 54, 60, 47, 37, 23, 9, 36, 6]\n",
      "[66, 188, 108, 120, 94, 74, 46, 18, 72, 12]\n",
      "[66, 188, 108, 120, 94, 74, 46, 18, 72, 12]\n"
     ]
    }
   ],
   "source": [
    "\"\"\"1.1. Dada una lista de números, obtén una nueva lista con el doble de cada valor.\n",
    "\"\"\"\n",
    "\"\"\"\n",
    "Este programa genera una lista de 10 números aleatorios entre 1 y 99, luego imprime la lista y muestra los resultados\n",
    "de multiplicar cada número de la lista por 2, utilizando tanto una función definida como una función lambda.\n",
    "\n",
    "Funciones utilizadas:\n",
    "1. `doble_valor(n1)`: Recibe un número y retorna el doble de su valor.\n",
    "2. `map()`: Aplica la función `doble_valor` o la lambda a cada elemento de la lista `numeros`.\n",
    "\n",
    "El programa realiza lo siguiente:\n",
    "1. Genera 10 números aleatorios en el rango de 1 a 99.\n",
    "2. Muestra la lista original.\n",
    "3. Muestra una nueva lista con los valores de la lista original multiplicados por 2, usando la función `doble_valor`.\n",
    "4. Repite el mismo proceso utilizando una función lambda para multiplicar los valores.\n",
    "\"\"\"\n",
    "numeros = random.sample(range(1, 100), 10)\n",
    "print(numeros)\n",
    "\n",
    "def doble_valor(n1):\n",
    "    return n1 * 2\n",
    "\n",
    "# con funcion\n",
    "print(list(map(doble_valor,numeros)))\n",
    "\n",
    "# con lambda\n",
    "print(list(map(lambda n1 : n1 * 2, numeros))) \n"
   ]
  },
  {
   "cell_type": "code",
   "execution_count": 6,
   "metadata": {},
   "outputs": [
    {
     "name": "stdout",
     "output_type": "stream",
     "text": [
      "hola que tal\n",
      "[4, 3, 3]\n",
      "[4, 3, 3]\n"
     ]
    }
   ],
   "source": [
    "\"\"\"1.2. Genera una función que al recibir una frase devuelva una lista con la longitud de cada palabra. \n",
    "    Nota: también se puede solucionar con una `lambda`. \n",
    "\"\"\"\n",
    "\"\"\"\n",
    "Este programa toma una frase, la divide en palabras y luego calcula la longitud de cada palabra, utilizando tanto\n",
    "una función definida como una función lambda.\n",
    "\n",
    "Funciones utilizadas:\n",
    "1. `longitud_palabra(st)`: Recibe una palabra y retorna su longitud.\n",
    "2. `map()`: Aplica la función `longitud_palabra` o la lambda a cada palabra de la frase dividida.\n",
    "\n",
    "El programa realiza lo siguiente:\n",
    "1. Imprime la frase original.\n",
    "2. Divide la frase en palabras.\n",
    "3. Muestra una lista con las longitudes de cada palabra, usando la función `longitud_palabra`.\n",
    "4. Repite el mismo proceso utilizando una función lambda para calcular las longitudes.\n",
    "\"\"\"\n",
    "\n",
    "frase = \"hola que tal\"\n",
    "print(frase)\n",
    "\n",
    "# funcion\n",
    "def longitud_palabra(st):\n",
    "    return len(st)\n",
    "\n",
    "# con funcion\n",
    "print(list(map(longitud_palabra,frase.split())))\n",
    "\n",
    "# lambda\n",
    "print(list(map(lambda st : len(st), frase.split()))) "
   ]
  },
  {
   "cell_type": "code",
   "execution_count": 8,
   "metadata": {},
   "outputs": [
    {
     "name": "stdout",
     "output_type": "stream",
     "text": [
      "['Juan Pérez', 'María García', 'Luis Martínez', 'Ana López', 'Carlos Sánchez', 'Elena Fernández', 'Miguel González']\n",
      "['Juan Pérez', 'María García', 'Luis Martínez', 'Ana López', 'Carlos Sánchez', 'Elena Fernández', 'Miguel González']\n"
     ]
    }
   ],
   "source": [
    "\"\"\"1.3. Genera una función que convierta una lista de tuplas a una lista de strings\n",
    "    \"\"\"\n",
    "\"\"\"\n",
    "Este programa toma una lista de tuplas, donde cada tupla contiene dos elementos de tipo cadena, y los convierte en\n",
    "una única cadena que combina el primer y segundo elemento de la tupla, separados por un espacio, utilizando tanto\n",
    "una función definida como una función lambda.\n",
    "\n",
    "Funciones utilizadas:\n",
    "1. `convierte_datos(str)`: Recibe una tupla de dos cadenas y retorna una cadena que combina el primer y segundo elemento separados por un espacio.\n",
    "2. `map()`: Aplica la función `convierte_datos` o la lambda a cada tupla en la lista `lista_de_tuplas`.\n",
    "\n",
    "El programa realiza lo siguiente:\n",
    "1. Usa una lista de tuplas de cadenas.\n",
    "2. Muestra una lista con los elementos de cada tupla concatenados mediante un espacio, utilizando la función `convierte_datos`.\n",
    "3. Repite el mismo proceso utilizando una función lambda para combinar los elementos de las tuplas.\n",
    "\"\"\"\n",
    "\n",
    "lista_de_tuplas = [(\"Juan\", \"Pérez\"),(\"María\", \"García\"),(\"Luis\", \"Martínez\"),(\"Ana\", \"López\"),(\"Carlos\", \"Sánchez\"),(\"Elena\", \"Fernández\"),(\"Miguel\", \"González\")]\n",
    "\n",
    "def convierte_datos(str):\n",
    "    return str[0] + \" \" + str[1]\n",
    "\n",
    "#con funcion\n",
    "print(list(map(convierte_datos,lista_de_tuplas)))\n",
    "\n",
    "# lambda\n",
    "print(list(map(lambda str : str[0] + \" \" + str[1], lista_de_tuplas))) \n"
   ]
  },
  {
   "cell_type": "code",
   "execution_count": 11,
   "metadata": {},
   "outputs": [
    {
     "name": "stdout",
     "output_type": "stream",
     "text": [
      "[1, 4, 22, -8, 0, 3]\n",
      "[1, 4, 22, -8, 0, 3]\n"
     ]
    }
   ],
   "source": [
    "\"\"\"1.4. Crea una función que calcule la diferencia entre los valores \n",
    "correspondientes de dos listas. Debrás restar los elementos de las dos listas,\n",
    " devolviendo una nueva lista con las diferencias.\n",
    "\"\"\"\n",
    "\"\"\"\n",
    "Este programa toma dos listas de números y calcula la diferencia entre los elementos correspondientes de ambas listas,\n",
    "utilizando tanto una función definida como una función lambda.\n",
    "\n",
    "Funciones utilizadas:\n",
    "1. `calcula_diferencia(n1, n2)`: Recibe dos números y retorna la diferencia entre el segundo y el primero (n2 - n1).\n",
    "2. `map()`: Aplica la función `calcula_diferencia` o la lambda a cada par de elementos de las listas `numeros` y `numeros_2`.\n",
    "\n",
    "El programa realiza lo siguiente:\n",
    "1. Define dos listas de números (`numeros` y `numeros_2`).\n",
    "2. Muestra una lista con las diferencias entre los elementos correspondientes de ambas listas, usando la función `calcula_diferencia`.\n",
    "3. Repite el mismo proceso utilizando una función lambda para calcular las diferencias.\n",
    "\"\"\"\n",
    "\n",
    "numeros = [4, 8, 15, 16, 23, 42]\n",
    "numeros_2 = [5, 12, 37, 8, 23, 45]\n",
    "\n",
    "def calcula_diferencia(n1,n2):\n",
    "    return n2 - n1\n",
    "\n",
    "# con funcion\n",
    "print(list(map(calcula_diferencia,numeros,numeros_2)))\n",
    "\n",
    "# lambda\n",
    "print(list(map(lambda n1,n2 : n2 - n1, numeros, numeros_2))) \n"
   ]
  },
  {
   "cell_type": "code",
   "execution_count": 33,
   "metadata": {},
   "outputs": [
    {
     "name": "stdout",
     "output_type": "stream",
     "text": [
      "['a', 'b', 'e', 'f', 'i', 'o', 'u']\n",
      "[('A', 'a'), ('B', 'b'), ('E', 'e'), ('F', 'f'), ('I', 'i'), ('O', 'o'), ('U', 'u')]\n",
      "[('A', 'a'), ('B', 'b'), ('E', 'e'), ('F', 'f'), ('I', 'i'), ('O', 'o'), ('U', 'u')]\n"
     ]
    }
   ],
   "source": [
    "\"\"\"\n",
    "1.5. Genera una función la cual, para un conjunto de caracteres, \n",
    "devuelva una lista de tuplas con cada letra en mayúsculas y minúsculas. \n",
    "Importante, no puede haber dos tuplas que contengan las mismas letras.\n",
    "\"\"\"\n",
    "\"\"\"\n",
    "Este programa trabaja con un conjunto de caracteres, transforma cada carácter a minúscula y los ordena. Luego, genera tuplas\n",
    "donde el primer elemento es la versión en mayúsculas del carácter y el segundo es el carácter en minúsculas, utilizando tanto\n",
    "una función definida como una función lambda.\n",
    "\n",
    "Funciones utilizadas:\n",
    "1. `genera_tuplas(str)`: Recibe un carácter y retorna una tupla donde el primer elemento es el carácter en mayúsculas y el segundo es el carácter en minúsculas.\n",
    "2. `map()`: Aplica la función `genera_tuplas` o la lambda a cada carácter del conjunto `conjunto_caracteres_ordenado`.\n",
    "\n",
    "El programa realiza lo siguiente:\n",
    "1. Crea un conjunto de caracteres `conjunto_caracteres` con algunos repetidos y mezcla de mayúsculas y minúsculas.\n",
    "2. Convierte cada carácter del conjunto a minúsculas y ordena el resultado.\n",
    "3. Muestra una lista de tuplas donde el primer elemento es el carácter en mayúsculas y el segundo es el carácter en minúsculas, utilizando la función `genera_tuplas`.\n",
    "4. Repite el proceso utilizando una función lambda para generar las tuplas.\n",
    "\"\"\"\n",
    "\n",
    "\n",
    "conjunto_caracteres = {'a', 'b', 'E', 'f', 'a', 'i', 'o', 'U', 'a'}\n",
    "conjunto_caracteres_ordenado = sorted(list(map(lambda str : str.lower(), conjunto_caracteres)))\n",
    "\n",
    "print(conjunto_caracteres_ordenado)\n",
    "\n",
    "def genera_tuplas(str):\n",
    "    return (str.upper(),str)\n",
    "\n",
    "# Con funcion\n",
    "print(list(map(genera_tuplas,conjunto_caracteres_ordenado)))\n",
    "\n",
    "# con lambda\n",
    "print(list(map(lambda str : (str.upper(),str), conjunto_caracteres_ordenado)))\n"
   ]
  },
  {
   "cell_type": "markdown",
   "metadata": {},
   "source": [
    "## Ejercicio 2. Filter ()"
   ]
  },
  {
   "cell_type": "markdown",
   "metadata": {},
   "source": [
    "2.1. Crea una función que devuelva las palabras de una lista que comienzan con una letra específica. Por ejemplo:\n",
    "\n",
    "```python\n",
    "# input\n",
    "frase = 'Incluso la persona más pequeña puede cambiar el curso del futuro.'\n",
    "letra = 'p'\n",
    "\n",
    "# output\n",
    "['persona', 'pequeña', 'puede']\n",
    "```\n",
    "\n",
    "2.2. Para una lista con elementos tipo *integer* y *string*, obtén una nueva lista sólo con los valores de tipo *integer*.\n",
    "\n",
    "2.3. Escribe una función que tome una lista de nombres de mascotas como parámetro y devuelva una nueva lista excluyendo ciertas mascotas prohibidas en España. La lista de mascotas a excluir es [\"Mapache\", \"Tigre\", \"Serpiente Pitón\", \"Cocodrilo\", \"Oso\"].\n",
    "\n",
    "```python\n",
    "#input\n",
    "mascotas = ['Perro', 'Tigre', 'Gato', 'Oso', 'Erizo']\n",
    "\n",
    "# output\n",
    "['Perro', 'Gato', 'Erizo']\n",
    "```\n",
    "2.4. Escribe un programa en Python que cree una lista de diccionarios que contenga información de estudiantes (nombre, edad, calificación) y use la función filter para extraer a los estudiantes con una calificación mayor o igual a 90."
   ]
  },
  {
   "cell_type": "code",
   "execution_count": 72,
   "metadata": {},
   "outputs": [
    {
     "name": "stdout",
     "output_type": "stream",
     "text": [
      "['persona', 'pequeña', 'puede']\n",
      "['persona', 'pequeña', 'puede']\n"
     ]
    }
   ],
   "source": [
    "\"\"\"2.1. Crea una función que devuelva las palabras de una \n",
    "lista que comienzan con una letra específica.\n",
    "    \"\"\"\n",
    "\"\"\"\n",
    "Este programa toma una frase y filtra las palabras que comienzan con una letra específica, en este caso la letra 'p', \n",
    "utilizando tanto una función definida como una función lambda.\n",
    "\n",
    "Funciones utilizadas:\n",
    "1. `devuelve_palabras_inicio(str_f, str_l)`: Recibe una palabra y una letra, y devuelve `True` si la palabra comienza con esa letra, de lo contrario, devuelve `False`.\n",
    "2. `filter()`: Aplica la función `devuelve_palabras_inicio` o la lambda para filtrar las palabras de la frase que empiezan con la letra 'p'.\n",
    "\n",
    "El programa realiza lo siguiente:\n",
    "1. Define una frase y una letra específica (`letra`).\n",
    "2. Divide la frase en palabras.\n",
    "3. Muestra una lista con las palabras que comienzan con la letra especificada, usando la función `devuelve_palabras_inicio`.\n",
    "4. Repite el proceso utilizando una función lambda para filtrar las palabras que comienzan con la letra 'p'.\n",
    "\"\"\"\n",
    "\n",
    "# input\n",
    "frase = 'Incluso la persona más pequeña puede cambiar el curso del futuro.'\n",
    "letra = 'p'\n",
    "\n",
    "def devuelve_palabras_inicio(str_f,str_l):\n",
    "    if str_f.startswith(str_l):\n",
    "        return True\n",
    "    else:\n",
    "        return False\n",
    "\n",
    "# con funcion\n",
    "print(list(filter(lambda x: devuelve_palabras_inicio(x,letra),frase.split())))\n",
    "\n",
    "# con lambda\n",
    "print(list(filter(lambda str : (str.startswith(letra)), frase.split())))\n"
   ]
  },
  {
   "cell_type": "code",
   "execution_count": 66,
   "metadata": {},
   "outputs": [
    {
     "name": "stdout",
     "output_type": "stream",
     "text": [
      "[1, 4, 5, 'e', 0, 'z', 'h']\n",
      "[1, 4, 5, 0]\n"
     ]
    }
   ],
   "source": [
    "\"\"\"2.2. Para una lista con elementos tipo *integer* \n",
    "    y *string*, obtén una nueva lista sólo con los valores de tipo *integer*.\n",
    "\"\"\"\n",
    "\"\"\"\n",
    "Este programa toma una lista de elementos mixtos que contiene tanto números como caracteres y filtra aquellos que no son cadenas de texto, utilizando una función definida.\n",
    "\n",
    "Funciones utilizadas:\n",
    "1. `check_valores(n1)`: Recibe un elemento de la lista y devuelve `True` si el elemento no es de tipo `str`, es decir, si es un número; de lo contrario, devuelve `False`.\n",
    "2. `filter()`: Aplica la función `check_valores` para filtrar los elementos que no son cadenas de texto en la lista `lista_elementos`.\n",
    "\n",
    "El programa realiza lo siguiente:\n",
    "1. Define una lista de elementos mixtos (`lista_elementos`) que contiene números y caracteres.\n",
    "2. Muestra la lista original.\n",
    "3. Filtra y muestra una lista con los elementos que no son de tipo `str`, utilizando la función `check_valores`.\n",
    "\"\"\"\n",
    "\n",
    "\n",
    "lista_elementos = [1,4,5,'e',0,'z','h']\n",
    "print(lista_elementos)\n",
    "\n",
    "def check_valores(n1):\n",
    "    if (type(n1) != str):\n",
    "        return True\n",
    "    else:\n",
    "       return False\n",
    "   \n",
    "# con funcion\n",
    "print(list(filter(check_valores,lista_elementos)))"
   ]
  },
  {
   "cell_type": "code",
   "execution_count": 75,
   "metadata": {},
   "outputs": [
    {
     "name": "stdout",
     "output_type": "stream",
     "text": [
      "['Perro', 'Gato', 'Erizo']\n",
      "['Perro', 'Gato', 'Erizo']\n"
     ]
    }
   ],
   "source": [
    "\"\"\"\n",
    "    2.3. Escribe una función que tome una lista de nombres \n",
    "    de mascotas como parámetro y devuelva una nueva lista excluyendo \n",
    "    ciertas mascotas prohibidas en España. \n",
    "\"\"\"\n",
    "\"\"\"\n",
    "Este programa toma una lista de mascotas y filtra aquellas que no están en una lista de mascotas excluidas, utilizando tanto una función definida como una función lambda.\n",
    "\n",
    "Funciones utilizadas:\n",
    "1. `control_mascotas(animalitos, excluidos)`: Recibe una mascota y una lista de mascotas excluidas, y devuelve `False` si la mascota está en la lista de excluidas, de lo contrario, devuelve `True`.\n",
    "2. `filter()`: Aplica la función `control_mascotas` o la lambda para filtrar las mascotas que no están en la lista de excluidas.\n",
    "\n",
    "El programa realiza lo siguiente:\n",
    "1. Define dos listas: `mascotas` (lista de animales) y `mascotas_excluidas` (lista de animales a excluir).\n",
    "2. Muestra una lista de las mascotas que no están en la lista de excluidas, utilizando la función `control_mascotas`.\n",
    "3. Repite el proceso utilizando una función lambda para filtrar las mascotas que no están en la lista de excluidas.\n",
    "\"\"\"\n",
    "\n",
    "#input\n",
    "mascotas = ['Perro', 'Tigre', 'Gato', 'Oso', 'Erizo']\n",
    "mascotas_excluidas = [\"Mapache\", \"Tigre\", \"Serpiente Pitón\", \"Cocodrilo\", \"Oso\"]\n",
    "\n",
    "def control_mascotas(animalitos,excluidos):\n",
    "    if (animalitos in excluidos):\n",
    "        return False\n",
    "    else:\n",
    "        return True\n",
    "\n",
    "# Con funcion\n",
    "print(list(filter(lambda x: control_mascotas(x,mascotas_excluidas),mascotas)))\n",
    "\n",
    "# con lambda\n",
    "print(list(filter(lambda a : (a not in mascotas_excluidas), mascotas)))"
   ]
  },
  {
   "cell_type": "code",
   "execution_count": 76,
   "metadata": {},
   "outputs": [
    {
     "name": "stdout",
     "output_type": "stream",
     "text": [
      "[{'nombre': 'Pepe', 'edad': 18, 'calificacion': 91}]\n"
     ]
    }
   ],
   "source": [
    "\"\"\"2.4. Escribe un programa en Python que cree una lista de diccionarios que contenga \n",
    "    información de estudiantes (nombre, edad, calificación) y \n",
    "    use la función filter para extraer a los estudiantes con una calificación mayor o igual a 90.\n",
    "\"\"\"\n",
    "\"\"\"\n",
    "Este programa filtra una lista de diccionarios que representan a estudiantes, seleccionando aquellos cuya calificación es mayor o igual a 90, utilizando una función lambda.\n",
    "\n",
    "Funciones utilizadas:\n",
    "1. `filter()`: Aplica una función lambda para filtrar los estudiantes cuya calificación sea mayor o igual a 90.\n",
    "\n",
    "El programa realiza lo siguiente:\n",
    "1. Define una lista de diccionarios llamada `estudiantes`, donde cada diccionario contiene la información de un estudiante (nombre, edad, calificación).\n",
    "2. Utiliza una función lambda para filtrar y mostrar una lista de estudiantes cuya calificación es 90 o superior.\n",
    "\"\"\"\n",
    "\n",
    "estudiantes = [\n",
    "    {'nombre': 'Juan', 'edad': 25, 'calificacion': 85},\n",
    "    {'nombre': 'Pepe', 'edad': 18, 'calificacion': 91},\n",
    "    {'nombre': 'Santi', 'edad': 35, 'calificacion': 75}\n",
    "]\n",
    "\n",
    "# con lambda\n",
    "print(list(filter(lambda a : (a['calificacion'] >= 90), estudiantes)))\n",
    "\n"
   ]
  },
  {
   "cell_type": "markdown",
   "metadata": {},
   "source": [
    "## Ejercicio 3. Reduce ()"
   ]
  },
  {
   "cell_type": "markdown",
   "metadata": {},
   "source": [
    "3.1 Crea una función que tome una lista de dígitos y devuelva el número correspondiente. Por ejemplo, [5,7,2] corresponde al número quinientos setenta y dos (572).\n",
    "\n",
    "3.2. Dada una lista de números enteros, obtén el producto total de los valores de dicha lista\n",
    "\n",
    "3.3. Concatena una lista de palabras. Por ejemplo:\n",
    "\n",
    "```python\n",
    "# input\n",
    "lista_int_str = ['Un', 'mago', 'nunca']\n",
    "\n",
    "# output\n",
    "'Unmagonunca'\n",
    "```\n",
    "\n",
    "3.4. Calcula la diferencia total en los valores de una lista, es decir, crea un programa que vaya restando todos sus elementos.\n"
   ]
  },
  {
   "cell_type": "code",
   "execution_count": 84,
   "metadata": {},
   "outputs": [
    {
     "name": "stdout",
     "output_type": "stream",
     "text": [
      "572\n"
     ]
    }
   ],
   "source": [
    "\n",
    "\"\"\"3.1 Crea una función que tome una lista de dígitos y devuelva el número correspondiente. \n",
    "   Por ejemplo, [5,7,2] corresponde al número quinientos setenta y dos (572).\n",
    "\"\"\"\n",
    "\"\"\"\n",
    "Este programa toma una lista de dígitos y los combina en una cadena, concatenando cada dígito secuencialmente, utilizando la función `reduce()` y una función definida.\n",
    "\n",
    "Funciones utilizadas:\n",
    "1. `devuelve_numero(digit1, digit2)`: Recibe dos dígitos, los convierte a cadenas y los concatena.\n",
    "2. `reduce()`: Aplica la función `devuelve_numero` de forma acumulativa a los elementos de la lista `lista_digitos`, combinando todos los dígitos en una sola cadena.\n",
    "\n",
    "El programa realiza lo siguiente:\n",
    "1. Define una lista de dígitos llamada `lista_digitos`.\n",
    "2. Utiliza la función `reduce()` para concatenar los dígitos de la lista y los muestra como una cadena.\n",
    "\"\"\"\n",
    "\n",
    "from functools import reduce\n",
    "\n",
    "lista_digitos = [5,7,2]\n",
    "\n",
    "def devuelve_numero(digit1,digit2):\n",
    "    return str(digit1) + str(digit2)\n",
    "\n",
    "print(reduce(devuelve_numero,lista_digitos))\n",
    "\n",
    "    "
   ]
  },
  {
   "cell_type": "code",
   "execution_count": 88,
   "metadata": {},
   "outputs": [
    {
     "name": "stdout",
     "output_type": "stream",
     "text": [
      "[5, 6, 1]\n",
      "30\n"
     ]
    }
   ],
   "source": [
    "\"\"\"\"3.2. Dada una lista de números enteros, \n",
    "obtén el producto total de los valores de dicha lista\"\"\"\n",
    "\"\"\"\n",
    "Este programa genera una lista de 3 números aleatorios en el rango de 1 a 14 y calcula el producto total de esos números utilizando la función `reduce()` y una función definida.\n",
    "\n",
    "Funciones utilizadas:\n",
    "1. `producto_total(n1, n2)`: Recibe dos números y retorna su producto.\n",
    "2. `reduce()`: Aplica la función `producto_total` de forma acumulativa a los elementos de la lista `numeros`, calculando el producto total de todos los números en la lista.\n",
    "\n",
    "El programa realiza lo siguiente:\n",
    "1. Genera una lista de 3 números aleatorios en el rango de 1 a 14.\n",
    "2. Imprime la lista de números generados.\n",
    "3. Utiliza la función `reduce()` para calcular y mostrar el producto total de los números en la lista.\n",
    "\"\"\"\n",
    "\n",
    "\n",
    "numeros = random.sample(range(1, 15), 3)\n",
    "print(numeros)\n",
    "\n",
    "def producto_total(n1,n2):\n",
    "    return n1 * n2\n",
    "\n",
    "print(reduce(producto_total,numeros))\n"
   ]
  },
  {
   "cell_type": "code",
   "execution_count": 89,
   "metadata": {},
   "outputs": [
    {
     "name": "stdout",
     "output_type": "stream",
     "text": [
      "Unmagonunca\n"
     ]
    }
   ],
   "source": [
    "\"\"\"\n",
    "3.3. Concatena una lista de palabras\n",
    "\"\"\"\n",
    "\"\"\"\n",
    "Este programa toma una lista de cadenas y las concatena en una sola cadena utilizando la función `reduce()` y una función definida.\n",
    "\n",
    "Funciones utilizadas:\n",
    "1. `concatena(str1, str2)`: Recibe dos cadenas y retorna su concatenación.\n",
    "2. `reduce()`: Aplica la función `concatena` de forma acumulativa a los elementos de la lista `lista_int_str`, combinando todas las cadenas en una sola.\n",
    "\n",
    "El programa realiza lo siguiente:\n",
    "1. Define una lista de cadenas llamada `lista_int_str`.\n",
    "2. Utiliza la función `reduce()` para concatenar todas las cadenas de la lista y las muestra como una sola cadena.\n",
    "\"\"\"\n",
    "\n",
    "# input\n",
    "lista_int_str = ['Un', 'mago', 'nunca']\n",
    "\n",
    "def concatena(str1,str2):\n",
    "    return str1 + str2\n",
    "\n",
    "print(reduce(concatena,lista_int_str))"
   ]
  },
  {
   "cell_type": "code",
   "execution_count": 93,
   "metadata": {},
   "outputs": [
    {
     "name": "stdout",
     "output_type": "stream",
     "text": [
      "[16, 6, 5, 29, 9, 25, 20, 10, 17, 18]\n",
      "-123\n"
     ]
    }
   ],
   "source": [
    "\"\"\" 3.4. Calcula la diferencia \n",
    "    total en los valores de una lista, es decir, \n",
    "    crea un programa que vaya restando todos sus elementos.\n",
    "\"\"\"\n",
    "\"\"\"\n",
    "Este programa genera una lista de 10 números aleatorios en el rango de 1 a 29 y calcula la diferencia total entre esos números utilizando la función `reduce()` y una función definida.\n",
    "\n",
    "Funciones utilizadas:\n",
    "1. `diferencia_total(n1, n2)`: Recibe dos números y retorna la diferencia entre el primer número y el segundo (n1 - n2).\n",
    "2. `reduce()`: Aplica la función `diferencia_total` de forma acumulativa a los elementos de la lista `numeros`, calculando la diferencia total.\n",
    "\n",
    "El programa realiza lo siguiente:\n",
    "1. Genera una lista de 10 números aleatorios en el rango de 1 a 29.\n",
    "2. Imprime la lista de números generados.\n",
    "3. Utiliza la función `reduce()` para calcular y mostrar la diferencia total de los números en la lista.\n",
    "\"\"\"\n",
    "\n",
    "\n",
    "numeros = random.sample(range(1, 30), 10)\n",
    "print(numeros)\n",
    "\n",
    "def diferencia_total(n1,n2):\n",
    "    return n1 - n2\n",
    "\n",
    "print(reduce(diferencia_total,numeros))\n"
   ]
  },
  {
   "cell_type": "markdown",
   "metadata": {},
   "source": [
    "## Ejercicio 4. Ejercicios combinando las funciones"
   ]
  },
  {
   "cell_type": "markdown",
   "metadata": {},
   "source": [
    "4.1. Dada una lista de números, filtra los números positivos y calcula su promedio.\n",
    "\n",
    "4.2. Dada una lista de palabras, filtra las palabras que empiezan con una vocal, conviértelas a mayúsculas, y luego concaténalas en una sola cadena. \n",
    "\n",
    "4.3. Dada una lista numérica, filtra los números impares y calcula el producto de todos ellos \n",
    "\n",
    "4.4. Dada una lista de palabras, filtra las que contienen la letra 'a' y cuenta cuántas hay."
   ]
  },
  {
   "cell_type": "code",
   "execution_count": 98,
   "metadata": {},
   "outputs": [
    {
     "name": "stdout",
     "output_type": "stream",
     "text": [
      "[-4, 13, -11, 12, 29, -12, 3, 22, 14, 9]\n",
      "[13, 12, 29, 3, 22, 14, 9]\n",
      "7\n",
      "14.571428571428571\n"
     ]
    }
   ],
   "source": [
    "\"\"\"4.1. Dada una lista de números, filtra los números positivos y calcula su promedio.\n",
    "\"\"\"\n",
    "\"\"\"\n",
    "Este programa genera una lista de 10 números aleatorios en el rango de -15 a 29 y calcula el promedio de los números positivos de esa lista, utilizando funciones definidas para filtrar y reducir.\n",
    "\n",
    "Funciones utilizadas:\n",
    "1. `check_valores_positivos(n1)`: Recibe un número y retorna `True` si el número es mayor que 0, de lo contrario, retorna `False`.\n",
    "2. `valores_promedios(n1, n2)`: Recibe dos números y retorna la suma de ambos.\n",
    "3. `filter()`: Aplica la función `check_valores_positivos` para filtrar los números positivos de la lista `numeros`.\n",
    "4. `reduce()`: Aplica la función `valores_promedios` de forma acumulativa a los números positivos, sumándolos para calcular el total.\n",
    "\n",
    "El programa realiza lo siguiente:\n",
    "1. Genera una lista de 10 números aleatorios en el rango de -15 a 29.\n",
    "2. Imprime la lista de números generados.\n",
    "3. Filtra y muestra la lista de números positivos utilizando la función `check_valores_positivos`.\n",
    "4. Calcula la suma de los números positivos utilizando `reduce()` y luego calcula el promedio dividiendo por la cantidad de números positivos.\n",
    "5. Imprime el promedio de los números positivos.\n",
    "\"\"\"\n",
    "\n",
    "numeros = random.sample(range(-15, 30), 10)\n",
    "print(numeros)\n",
    "\n",
    "def check_valores_positivos(n1):\n",
    "    if n1 > 0:\n",
    "         return True\n",
    "    else:\n",
    "         return False\n",
    "\n",
    "def valores_promedios(n1,n2):\n",
    "    return n1 + n2\n",
    "\n",
    "numeros_positivos = list(filter(check_valores_positivos,numeros))\n",
    "print(list(filter(check_valores_positivos,numeros)))\n",
    "\n",
    "average = reduce(valores_promedios,numeros_positivos) / len(numeros_positivos)\n",
    "print(average)\n"
   ]
  },
  {
   "cell_type": "code",
   "execution_count": 103,
   "metadata": {},
   "outputs": [
    {
     "name": "stdout",
     "output_type": "stream",
     "text": [
      "['palabra', 'coche', 'moto', 'alicante']\n",
      "['palabra', 'coche', 'moto']\n",
      "PALABRACOCHEMOTO\n"
     ]
    }
   ],
   "source": [
    "\"\"\"4.2. Dada una lista de palabras, filtra las palabras que empiezan con una vocal, \n",
    "   conviértelas a mayúsculas, y luego concaténalas en una sola cadena. \n",
    "\"\"\"\n",
    "\"\"\"\n",
    "Este programa filtra una lista de cadenas, eliminando aquellas que comienzan con una vocal, y luego concatena las cadenas restantes en mayúsculas utilizando `reduce()`.\n",
    "\n",
    "Funciones utilizadas:\n",
    "1. `filter_convierte_mayus(str_f)`: Recibe una cadena y retorna `False` si la cadena comienza con una vocal (de la lista `vocales`), y `True` de lo contrario.\n",
    "2. `convierte_mayus_concatena(str1, str2)`: Recibe dos cadenas y retorna su concatenación en mayúsculas.\n",
    "3. `filter()`: Aplica la función `filter_convierte_mayus` para filtrar las cadenas de la lista `lista_int_str`.\n",
    "4. `reduce()`: Aplica la función `convierte_mayus_concatena` de forma acumulativa a las cadenas filtradas, concatenándolas en una sola cadena en mayúsculas.\n",
    "\n",
    "El programa realiza lo siguiente:\n",
    "1. Define una lista de cadenas llamada `lista_int_str`.\n",
    "2. Imprime la lista original de cadenas.\n",
    "3. Filtra las cadenas que no comienzan con una vocal y muestra la lista resultante.\n",
    "4. Utiliza `reduce()` para concatenar las cadenas filtradas en una sola cadena en mayúsculas y la imprime.\n",
    "\"\"\"\n",
    "\n",
    "\n",
    "# input\n",
    "lista_int_str = ['palabra', 'coche', 'moto', 'alicante']\n",
    "print(lista_int_str)\n",
    "vocales = ['a','e','i','o','u']\n",
    "\n",
    "def filter_convierte_mayus(str_f):\n",
    "\n",
    "    for v in vocales:\n",
    "        if str_f.startswith(v):\n",
    "            return False\n",
    "        else:\n",
    "            return True\n",
    "\n",
    "def convierte_mayus_concatena(str1,str2):\n",
    "    return str1.upper() + str2.upper()\n",
    "    \n",
    "print(list(filter(filter_convierte_mayus,lista_int_str)))\n",
    "lista_filtrada = list(filter(filter_convierte_mayus,lista_int_str))\n",
    "print(reduce(convierte_mayus_concatena,lista_filtrada))\n"
   ]
  },
  {
   "cell_type": "code",
   "execution_count": 107,
   "metadata": {},
   "outputs": [
    {
     "name": "stdout",
     "output_type": "stream",
     "text": [
      "[21, 19, 8, 12, -15, -9, 13, 2, -1, -5]\n",
      "[8, 12, 2]\n",
      "192\n"
     ]
    }
   ],
   "source": [
    "\"\"\"\n",
    "    4.3. Dada una lista numérica, filtra los números impares y calcula el producto de todos ellos \n",
    "\"\"\"\n",
    "\"\"\"\n",
    "Este programa genera una lista de 10 números aleatorios en el rango de -15 a 29 y filtra los números pares, luego calcula el producto total de los números filtrados utilizando `reduce()`.\n",
    "\n",
    "Funciones utilizadas:\n",
    "1. `numero_impar(n1)`: Recibe un número y retorna `False` si el número es impar (n1 % 2 != 0), y `True` si es par.\n",
    "2. `filter()`: Aplica la función `numero_impar` para filtrar los números pares de la lista `numeros`.\n",
    "3. `multiplicacion(n1, n2)`: Recibe dos números y retorna su producto.\n",
    "4. `reduce()`: Aplica la función `multiplicacion` de forma acumulativa a los números filtrados, calculando el producto total.\n",
    "\n",
    "El programa realiza lo siguiente:\n",
    "1. Genera una lista de 10 números aleatorios en el rango de -15 a 29.\n",
    "2. Imprime la lista de números generados.\n",
    "3. Filtra y muestra la lista de números pares utilizando la función `numero_impar`.\n",
    "4. Utiliza `reduce()` para calcular y mostrar el producto total de los números pares en la lista filtrada.\n",
    "\"\"\"\n",
    "\n",
    "numeros = random.sample(range(-15, 30), 10)\n",
    "print(numeros)\n",
    "\n",
    "def numero_impar(n1):\n",
    "    if n1 % 2 != 0:\n",
    "        return False\n",
    "    else:\n",
    "        return True\n",
    "    \n",
    "lista_filtrada_numeros = list(filter(numero_impar,numeros))\n",
    "print(lista_filtrada_numeros)\n",
    "\n",
    "def multiplicacion(n1,n2):\n",
    "    return n1 * n2\n",
    "\n",
    "print(reduce(multiplicacion,lista_filtrada_numeros))\n",
    "\n"
   ]
  },
  {
   "cell_type": "code",
   "execution_count": 5,
   "metadata": {},
   "outputs": [
    {
     "name": "stdout",
     "output_type": "stream",
     "text": [
      "['uno', 'dos', 'tres', 'cuatro_dias', 'mañana']\n",
      "lista filtrada:  ['cuatro_dias', 'mañana']\n",
      "numero de palabras:  2\n",
      "numeros de a totales: 5\n"
     ]
    }
   ],
   "source": [
    "\"\"\"4.4. Dada una lista de palabras, filtra las que contienen la letra 'a' y cuenta cuántas hay.\n",
    "\"\"\"\n",
    "\"\"\"\n",
    "Este programa filtra una lista de cadenas para encontrar aquellas que contienen la letra 'a' y cuenta cuántas veces aparece esa letra en las palabras filtradas.\n",
    "\n",
    "El programa realiza lo siguiente:\n",
    "1. Define una lista de cadenas llamada `lista_int_str`.\n",
    "2. Imprime la lista original.\n",
    "3. Utiliza la función `filtra_palabras(str)` para determinar si una cadena contiene la letra 'a'. \n",
    "   - La función retorna `True` si la letra está presente y `False` de lo contrario.\n",
    "4. Filtra la lista original usando `filter()` y muestra la lista resultante que contiene solo las palabras que incluyen la letra 'a'.\n",
    "5. Imprime la cantidad de palabras en la lista filtrada.\n",
    "6. Inicializa un contador para contar el número total de veces que aparece la letra 'a' en las palabras filtradas.\n",
    "7. Utiliza un bucle para iterar a través de las palabras filtradas y otro bucle interno para contar cada aparición de la letra 'a'.\n",
    "8. Finalmente, imprime el total de apariciones de la letra 'a'.\n",
    "\"\"\"\n",
    "\n",
    "# input\n",
    "lista_int_str = ['uno', 'dos', 'tres', 'cuatro_dias','mañana']\n",
    "letra_a_buscar = 'a'\n",
    "\n",
    "print(lista_int_str)\n",
    "\n",
    "def filtra_palabras(str):\n",
    "    if \"a\" in str:\n",
    "        return True\n",
    "    else:\n",
    "        return False\n",
    "    \n",
    "lista = list(filter(filtra_palabras,lista_int_str))\n",
    "print(\"lista filtrada: \", lista)\n",
    "print(\"numero de palabras: \", len(lista))\n",
    "\n",
    "contador = 0\n",
    "\n",
    "for st in lista:\n",
    "    for letra in st:\n",
    "        if letra == letra_a_buscar:\n",
    "            contador = contador + 1\n",
    "\n",
    "print(f\"numeros de {letra_a_buscar} totales: {contador}\")\n"
   ]
  }
 ],
 "metadata": {
  "kernelspec": {
   "display_name": "base",
   "language": "python",
   "name": "python3"
  },
  "language_info": {
   "codemirror_mode": {
    "name": "ipython",
    "version": 3
   },
   "file_extension": ".py",
   "mimetype": "text/x-python",
   "name": "python",
   "nbconvert_exporter": "python",
   "pygments_lexer": "ipython3",
   "version": "3.12.5"
  }
 },
 "nbformat": 4,
 "nbformat_minor": 2
}
